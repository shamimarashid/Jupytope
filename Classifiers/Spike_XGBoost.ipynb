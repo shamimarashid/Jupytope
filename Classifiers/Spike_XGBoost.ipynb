{
 "cells": [
  {
   "cell_type": "code",
   "execution_count": 4,
   "id": "4040b7b7-8ea4-4f26-a9b1-ea4d2eeedfe0",
   "metadata": {},
   "outputs": [],
   "source": [
    "# Notebook written by Shamima Rashid, Nanyang Technological University, Singapore. June 2022.\n",
    "# Adapted from: machinelearningmastery.com (Jason Brownlee). \n",
    "#Version Information:\n",
    "#xgboost 1.5.1\n",
    "#scipy 1.8.1"
   ]
  },
  {
   "cell_type": "code",
   "execution_count": 5,
   "id": "65ea0777",
   "metadata": {},
   "outputs": [],
   "source": [
    "import pandas as pd\n",
    "import pandas_profiling as pp\n",
    "import numpy as np\n",
    "import matplotlib.pyplot as plt\n",
    "from mpl_toolkits.mplot3d import Axes3D\n",
    "#import sklearn\n",
    "import seaborn as sns\n",
    "from xgboost import XGBClassifier\n",
    "import scipy\n",
    "from pylab import savefig\n",
    "\n",
    "#comment if 'A value is trying to be set on a slice of a copy of a dataframe' warning is needed\n",
    "pd.options.mode.chained_assignment = None  # default='warn'\n",
    "\n"
   ]
  },
  {
   "cell_type": "code",
   "execution_count": 6,
   "id": "708573ca",
   "metadata": {},
   "outputs": [],
   "source": [
    "fn1 = \"Sites_final_SARSCoV2.csv\" #Cleaned datafile with 54484 records\n",
    "                                 #B-factors not applicable as many are cryo-EM files "
   ]
  },
  {
   "cell_type": "code",
   "execution_count": 7,
   "id": "3494ea11",
   "metadata": {},
   "outputs": [],
   "source": [
    "###Only 10 relevant features are selected. Non-informative features (eg all zero columns, high correlation) \n",
    "###identified in profile report were removed\n",
    "fields_1 = ['Hydropathy', 'SS', 'RSA', 'PHI', 'PSI', 'main_chain_rel', 'CA_Up', 'CA_down', 'CA_PCB_Angle', \n",
    "            'Residue_Depth', 'Target'] #10 features\n",
    "fields_2 = ['Hydropathy', 'SS', 'RSA', 'PHI', 'PSI', 'main_chain_rel', 'all_polar_rel', 'CA_Up', \n",
    "             'CA_down', 'CA_PCB_Angle','CA_Up.1','CA_down.1', 'CA_Count_r12',\t'Residue_Depth',\n",
    "             'CA_Depth', 'Target'] #15 features\n",
    "fields_4 = ['Hydropathy','SS','RSA','PHI','PSI','all_atoms_abs','all_atoms_rel','side_chain_abs',\n",
    "            'side_chain_rel','main_chain_abs','main_chain_rel',\t'non_polar_abs','non_polar_rel',\n",
    "            'all_polar_abs', 'all_polar_rel', 'CA_Up', 'CA_down', 'CA_PCB_Angle', 'CA_Up.1', \n",
    "            'CA_down.1', 'CA_Count_r12','Residue_Depth','CA_Depth','Target'] #23 features\n"
   ]
  },
  {
   "cell_type": "code",
   "execution_count": 8,
   "id": "1319aaaf",
   "metadata": {},
   "outputs": [],
   "source": [
    "#df = pd.read_csv(fn1, usecols=fields_1)\n",
    "df = pd.read_csv(fn1, usecols=fields_4)"
   ]
  },
  {
   "cell_type": "code",
   "execution_count": 9,
   "id": "5299e640",
   "metadata": {},
   "outputs": [
    {
     "data": {
      "text/html": [
       "<div>\n",
       "<style scoped>\n",
       "    .dataframe tbody tr th:only-of-type {\n",
       "        vertical-align: middle;\n",
       "    }\n",
       "\n",
       "    .dataframe tbody tr th {\n",
       "        vertical-align: top;\n",
       "    }\n",
       "\n",
       "    .dataframe thead th {\n",
       "        text-align: right;\n",
       "    }\n",
       "</style>\n",
       "<table border=\"1\" class=\"dataframe\">\n",
       "  <thead>\n",
       "    <tr style=\"text-align: right;\">\n",
       "      <th></th>\n",
       "      <th>Hydropathy</th>\n",
       "      <th>SS</th>\n",
       "      <th>RSA</th>\n",
       "      <th>PHI</th>\n",
       "      <th>PSI</th>\n",
       "      <th>all_atoms_abs</th>\n",
       "      <th>all_atoms_rel</th>\n",
       "      <th>side_chain_abs</th>\n",
       "      <th>side_chain_rel</th>\n",
       "      <th>main_chain_abs</th>\n",
       "      <th>...</th>\n",
       "      <th>all_polar_rel</th>\n",
       "      <th>CA_Up</th>\n",
       "      <th>CA_down</th>\n",
       "      <th>CA_PCB_Angle</th>\n",
       "      <th>CA_Up.1</th>\n",
       "      <th>CA_down.1</th>\n",
       "      <th>CA_Count_r12</th>\n",
       "      <th>Residue_Depth</th>\n",
       "      <th>CA_Depth</th>\n",
       "      <th>Target</th>\n",
       "    </tr>\n",
       "  </thead>\n",
       "  <tbody>\n",
       "    <tr>\n",
       "      <th>0</th>\n",
       "      <td>-1.3</td>\n",
       "      <td>E</td>\n",
       "      <td>0.738739</td>\n",
       "      <td>-97.6</td>\n",
       "      <td>168.8</td>\n",
       "      <td>157.01</td>\n",
       "      <td>73.8</td>\n",
       "      <td>128.42</td>\n",
       "      <td>72.4</td>\n",
       "      <td>28.60</td>\n",
       "      <td>...</td>\n",
       "      <td>91.4</td>\n",
       "      <td>6</td>\n",
       "      <td>12</td>\n",
       "      <td>0.501964</td>\n",
       "      <td>4</td>\n",
       "      <td>14</td>\n",
       "      <td>18</td>\n",
       "      <td>1.798692</td>\n",
       "      <td>2.228454</td>\n",
       "      <td>O</td>\n",
       "    </tr>\n",
       "    <tr>\n",
       "      <th>1</th>\n",
       "      <td>-0.7</td>\n",
       "      <td>E</td>\n",
       "      <td>0.366197</td>\n",
       "      <td>-96.1</td>\n",
       "      <td>140.1</td>\n",
       "      <td>50.43</td>\n",
       "      <td>36.2</td>\n",
       "      <td>50.09</td>\n",
       "      <td>49.3</td>\n",
       "      <td>0.34</td>\n",
       "      <td>...</td>\n",
       "      <td>42.6</td>\n",
       "      <td>5</td>\n",
       "      <td>22</td>\n",
       "      <td>0.410390</td>\n",
       "      <td>10</td>\n",
       "      <td>17</td>\n",
       "      <td>27</td>\n",
       "      <td>2.430732</td>\n",
       "      <td>2.455612</td>\n",
       "      <td>O</td>\n",
       "    </tr>\n",
       "    <tr>\n",
       "      <th>2</th>\n",
       "      <td>-0.9</td>\n",
       "      <td>E</td>\n",
       "      <td>0.405286</td>\n",
       "      <td>-120.6</td>\n",
       "      <td>121.4</td>\n",
       "      <td>91.00</td>\n",
       "      <td>36.5</td>\n",
       "      <td>81.50</td>\n",
       "      <td>38.6</td>\n",
       "      <td>9.50</td>\n",
       "      <td>...</td>\n",
       "      <td>15.9</td>\n",
       "      <td>13</td>\n",
       "      <td>14</td>\n",
       "      <td>0.357393</td>\n",
       "      <td>9</td>\n",
       "      <td>18</td>\n",
       "      <td>27</td>\n",
       "      <td>1.965714</td>\n",
       "      <td>2.768722</td>\n",
       "      <td>O</td>\n",
       "    </tr>\n",
       "    <tr>\n",
       "      <th>3</th>\n",
       "      <td>2.8</td>\n",
       "      <td>E</td>\n",
       "      <td>0.203046</td>\n",
       "      <td>-113.4</td>\n",
       "      <td>153.6</td>\n",
       "      <td>37.32</td>\n",
       "      <td>18.7</td>\n",
       "      <td>37.24</td>\n",
       "      <td>22.7</td>\n",
       "      <td>0.08</td>\n",
       "      <td>...</td>\n",
       "      <td>0.0</td>\n",
       "      <td>12</td>\n",
       "      <td>14</td>\n",
       "      <td>0.458621</td>\n",
       "      <td>16</td>\n",
       "      <td>10</td>\n",
       "      <td>26</td>\n",
       "      <td>2.195982</td>\n",
       "      <td>1.999505</td>\n",
       "      <td>O</td>\n",
       "    </tr>\n",
       "    <tr>\n",
       "      <th>4</th>\n",
       "      <td>-3.5</td>\n",
       "      <td>E</td>\n",
       "      <td>0.694268</td>\n",
       "      <td>-116.7</td>\n",
       "      <td>139.4</td>\n",
       "      <td>100.15</td>\n",
       "      <td>69.6</td>\n",
       "      <td>97.87</td>\n",
       "      <td>92.1</td>\n",
       "      <td>2.28</td>\n",
       "      <td>...</td>\n",
       "      <td>72.7</td>\n",
       "      <td>6</td>\n",
       "      <td>12</td>\n",
       "      <td>0.373543</td>\n",
       "      <td>5</td>\n",
       "      <td>13</td>\n",
       "      <td>18</td>\n",
       "      <td>1.761027</td>\n",
       "      <td>2.311428</td>\n",
       "      <td>O</td>\n",
       "    </tr>\n",
       "    <tr>\n",
       "      <th>5</th>\n",
       "      <td>3.8</td>\n",
       "      <td>E</td>\n",
       "      <td>0.036585</td>\n",
       "      <td>-107.8</td>\n",
       "      <td>120.7</td>\n",
       "      <td>4.99</td>\n",
       "      <td>2.8</td>\n",
       "      <td>4.09</td>\n",
       "      <td>2.9</td>\n",
       "      <td>0.90</td>\n",
       "      <td>...</td>\n",
       "      <td>0.1</td>\n",
       "      <td>17</td>\n",
       "      <td>13</td>\n",
       "      <td>0.385145</td>\n",
       "      <td>16</td>\n",
       "      <td>14</td>\n",
       "      <td>30</td>\n",
       "      <td>2.160453</td>\n",
       "      <td>2.630212</td>\n",
       "      <td>O</td>\n",
       "    </tr>\n",
       "    <tr>\n",
       "      <th>6</th>\n",
       "      <td>-3.2</td>\n",
       "      <td>E</td>\n",
       "      <td>0.548913</td>\n",
       "      <td>-107.3</td>\n",
       "      <td>164.7</td>\n",
       "      <td>99.42</td>\n",
       "      <td>54.4</td>\n",
       "      <td>90.97</td>\n",
       "      <td>61.9</td>\n",
       "      <td>8.45</td>\n",
       "      <td>...</td>\n",
       "      <td>50.5</td>\n",
       "      <td>7</td>\n",
       "      <td>16</td>\n",
       "      <td>0.551092</td>\n",
       "      <td>5</td>\n",
       "      <td>18</td>\n",
       "      <td>23</td>\n",
       "      <td>1.771420</td>\n",
       "      <td>2.177925</td>\n",
       "      <td>O</td>\n",
       "    </tr>\n",
       "    <tr>\n",
       "      <th>7</th>\n",
       "      <td>-0.7</td>\n",
       "      <td>E</td>\n",
       "      <td>0.140845</td>\n",
       "      <td>-162.2</td>\n",
       "      <td>124.9</td>\n",
       "      <td>20.29</td>\n",
       "      <td>14.6</td>\n",
       "      <td>19.65</td>\n",
       "      <td>19.3</td>\n",
       "      <td>0.64</td>\n",
       "      <td>...</td>\n",
       "      <td>3.3</td>\n",
       "      <td>16</td>\n",
       "      <td>9</td>\n",
       "      <td>0.476711</td>\n",
       "      <td>21</td>\n",
       "      <td>4</td>\n",
       "      <td>25</td>\n",
       "      <td>1.907131</td>\n",
       "      <td>1.999835</td>\n",
       "      <td>O</td>\n",
       "    </tr>\n",
       "    <tr>\n",
       "      <th>8</th>\n",
       "      <td>-1.6</td>\n",
       "      <td>E</td>\n",
       "      <td>0.816176</td>\n",
       "      <td>-71.4</td>\n",
       "      <td>133.3</td>\n",
       "      <td>117.53</td>\n",
       "      <td>86.3</td>\n",
       "      <td>99.62</td>\n",
       "      <td>83.1</td>\n",
       "      <td>17.91</td>\n",
       "      <td>...</td>\n",
       "      <td>109.2</td>\n",
       "      <td>1</td>\n",
       "      <td>17</td>\n",
       "      <td>0.547936</td>\n",
       "      <td>0</td>\n",
       "      <td>18</td>\n",
       "      <td>18</td>\n",
       "      <td>1.945653</td>\n",
       "      <td>2.385825</td>\n",
       "      <td>O</td>\n",
       "    </tr>\n",
       "    <tr>\n",
       "      <th>9</th>\n",
       "      <td>4.5</td>\n",
       "      <td>C</td>\n",
       "      <td>0.165680</td>\n",
       "      <td>-148.3</td>\n",
       "      <td>155.0</td>\n",
       "      <td>27.52</td>\n",
       "      <td>15.7</td>\n",
       "      <td>18.85</td>\n",
       "      <td>13.7</td>\n",
       "      <td>8.66</td>\n",
       "      <td>...</td>\n",
       "      <td>15.5</td>\n",
       "      <td>17</td>\n",
       "      <td>4</td>\n",
       "      <td>0.509686</td>\n",
       "      <td>18</td>\n",
       "      <td>3</td>\n",
       "      <td>21</td>\n",
       "      <td>1.767569</td>\n",
       "      <td>1.999490</td>\n",
       "      <td>O</td>\n",
       "    </tr>\n",
       "  </tbody>\n",
       "</table>\n",
       "<p>10 rows × 24 columns</p>\n",
       "</div>"
      ],
      "text/plain": [
       "   Hydropathy SS       RSA    PHI    PSI  all_atoms_abs  all_atoms_rel  \\\n",
       "0        -1.3  E  0.738739  -97.6  168.8         157.01           73.8   \n",
       "1        -0.7  E  0.366197  -96.1  140.1          50.43           36.2   \n",
       "2        -0.9  E  0.405286 -120.6  121.4          91.00           36.5   \n",
       "3         2.8  E  0.203046 -113.4  153.6          37.32           18.7   \n",
       "4        -3.5  E  0.694268 -116.7  139.4         100.15           69.6   \n",
       "5         3.8  E  0.036585 -107.8  120.7           4.99            2.8   \n",
       "6        -3.2  E  0.548913 -107.3  164.7          99.42           54.4   \n",
       "7        -0.7  E  0.140845 -162.2  124.9          20.29           14.6   \n",
       "8        -1.6  E  0.816176  -71.4  133.3         117.53           86.3   \n",
       "9         4.5  C  0.165680 -148.3  155.0          27.52           15.7   \n",
       "\n",
       "   side_chain_abs  side_chain_rel  main_chain_abs  ...  all_polar_rel  CA_Up  \\\n",
       "0          128.42            72.4           28.60  ...           91.4      6   \n",
       "1           50.09            49.3            0.34  ...           42.6      5   \n",
       "2           81.50            38.6            9.50  ...           15.9     13   \n",
       "3           37.24            22.7            0.08  ...            0.0     12   \n",
       "4           97.87            92.1            2.28  ...           72.7      6   \n",
       "5            4.09             2.9            0.90  ...            0.1     17   \n",
       "6           90.97            61.9            8.45  ...           50.5      7   \n",
       "7           19.65            19.3            0.64  ...            3.3     16   \n",
       "8           99.62            83.1           17.91  ...          109.2      1   \n",
       "9           18.85            13.7            8.66  ...           15.5     17   \n",
       "\n",
       "   CA_down  CA_PCB_Angle  CA_Up.1  CA_down.1  CA_Count_r12  Residue_Depth  \\\n",
       "0       12      0.501964        4         14            18       1.798692   \n",
       "1       22      0.410390       10         17            27       2.430732   \n",
       "2       14      0.357393        9         18            27       1.965714   \n",
       "3       14      0.458621       16         10            26       2.195982   \n",
       "4       12      0.373543        5         13            18       1.761027   \n",
       "5       13      0.385145       16         14            30       2.160453   \n",
       "6       16      0.551092        5         18            23       1.771420   \n",
       "7        9      0.476711       21          4            25       1.907131   \n",
       "8       17      0.547936        0         18            18       1.945653   \n",
       "9        4      0.509686       18          3            21       1.767569   \n",
       "\n",
       "   CA_Depth  Target  \n",
       "0  2.228454       O  \n",
       "1  2.455612       O  \n",
       "2  2.768722       O  \n",
       "3  1.999505       O  \n",
       "4  2.311428       O  \n",
       "5  2.630212       O  \n",
       "6  2.177925       O  \n",
       "7  1.999835       O  \n",
       "8  2.385825       O  \n",
       "9  1.999490       O  \n",
       "\n",
       "[10 rows x 24 columns]"
      ]
     },
     "execution_count": 9,
     "metadata": {},
     "output_type": "execute_result"
    }
   ],
   "source": [
    "#df.profile_report()\n",
    "df.head(10)"
   ]
  },
  {
   "cell_type": "code",
   "execution_count": 10,
   "id": "1978bc04",
   "metadata": {},
   "outputs": [],
   "source": [
    "### Drop Clade 'O' for 4-Clade classification.\n",
    "X = df[df['Target'] != 'O']\n"
   ]
  },
  {
   "cell_type": "code",
   "execution_count": 11,
   "id": "7ddbec23",
   "metadata": {},
   "outputs": [
    {
     "data": {
      "text/html": [
       "<div>\n",
       "<style scoped>\n",
       "    .dataframe tbody tr th:only-of-type {\n",
       "        vertical-align: middle;\n",
       "    }\n",
       "\n",
       "    .dataframe tbody tr th {\n",
       "        vertical-align: top;\n",
       "    }\n",
       "\n",
       "    .dataframe thead th {\n",
       "        text-align: right;\n",
       "    }\n",
       "</style>\n",
       "<table border=\"1\" class=\"dataframe\">\n",
       "  <thead>\n",
       "    <tr style=\"text-align: right;\">\n",
       "      <th></th>\n",
       "      <th>Hydropathy</th>\n",
       "      <th>SS</th>\n",
       "      <th>RSA</th>\n",
       "      <th>PHI</th>\n",
       "      <th>PSI</th>\n",
       "      <th>all_atoms_abs</th>\n",
       "      <th>all_atoms_rel</th>\n",
       "      <th>side_chain_abs</th>\n",
       "      <th>side_chain_rel</th>\n",
       "      <th>main_chain_abs</th>\n",
       "      <th>...</th>\n",
       "      <th>all_polar_rel</th>\n",
       "      <th>CA_Up</th>\n",
       "      <th>CA_down</th>\n",
       "      <th>CA_PCB_Angle</th>\n",
       "      <th>CA_Up.1</th>\n",
       "      <th>CA_down.1</th>\n",
       "      <th>CA_Count_r12</th>\n",
       "      <th>Residue_Depth</th>\n",
       "      <th>CA_Depth</th>\n",
       "      <th>Target</th>\n",
       "    </tr>\n",
       "  </thead>\n",
       "  <tbody>\n",
       "    <tr>\n",
       "      <th>97</th>\n",
       "      <td>-1.3</td>\n",
       "      <td>E</td>\n",
       "      <td>0.680180</td>\n",
       "      <td>-134.4</td>\n",
       "      <td>152.6</td>\n",
       "      <td>142.34</td>\n",
       "      <td>66.9</td>\n",
       "      <td>116.75</td>\n",
       "      <td>65.8</td>\n",
       "      <td>25.59</td>\n",
       "      <td>...</td>\n",
       "      <td>86.4</td>\n",
       "      <td>8</td>\n",
       "      <td>11</td>\n",
       "      <td>0.550271</td>\n",
       "      <td>7</td>\n",
       "      <td>12</td>\n",
       "      <td>19</td>\n",
       "      <td>1.824456</td>\n",
       "      <td>2.302332</td>\n",
       "      <td>V</td>\n",
       "    </tr>\n",
       "    <tr>\n",
       "      <th>98</th>\n",
       "      <td>-0.7</td>\n",
       "      <td>E</td>\n",
       "      <td>0.281690</td>\n",
       "      <td>-73.8</td>\n",
       "      <td>132.0</td>\n",
       "      <td>39.73</td>\n",
       "      <td>28.5</td>\n",
       "      <td>39.07</td>\n",
       "      <td>38.4</td>\n",
       "      <td>0.66</td>\n",
       "      <td>...</td>\n",
       "      <td>28.1</td>\n",
       "      <td>6</td>\n",
       "      <td>22</td>\n",
       "      <td>0.381768</td>\n",
       "      <td>8</td>\n",
       "      <td>20</td>\n",
       "      <td>28</td>\n",
       "      <td>2.488649</td>\n",
       "      <td>2.664093</td>\n",
       "      <td>V</td>\n",
       "    </tr>\n",
       "    <tr>\n",
       "      <th>99</th>\n",
       "      <td>-0.9</td>\n",
       "      <td>E</td>\n",
       "      <td>0.202643</td>\n",
       "      <td>-103.5</td>\n",
       "      <td>117.0</td>\n",
       "      <td>47.49</td>\n",
       "      <td>19.0</td>\n",
       "      <td>42.02</td>\n",
       "      <td>19.9</td>\n",
       "      <td>5.46</td>\n",
       "      <td>...</td>\n",
       "      <td>9.2</td>\n",
       "      <td>13</td>\n",
       "      <td>15</td>\n",
       "      <td>0.353163</td>\n",
       "      <td>10</td>\n",
       "      <td>18</td>\n",
       "      <td>28</td>\n",
       "      <td>2.527140</td>\n",
       "      <td>3.313983</td>\n",
       "      <td>V</td>\n",
       "    </tr>\n",
       "    <tr>\n",
       "      <th>100</th>\n",
       "      <td>2.8</td>\n",
       "      <td>E</td>\n",
       "      <td>0.071066</td>\n",
       "      <td>-108.3</td>\n",
       "      <td>153.3</td>\n",
       "      <td>14.10</td>\n",
       "      <td>7.1</td>\n",
       "      <td>14.10</td>\n",
       "      <td>8.6</td>\n",
       "      <td>0.00</td>\n",
       "      <td>...</td>\n",
       "      <td>0.0</td>\n",
       "      <td>13</td>\n",
       "      <td>18</td>\n",
       "      <td>0.492913</td>\n",
       "      <td>19</td>\n",
       "      <td>12</td>\n",
       "      <td>31</td>\n",
       "      <td>2.413790</td>\n",
       "      <td>1.999542</td>\n",
       "      <td>V</td>\n",
       "    </tr>\n",
       "    <tr>\n",
       "      <th>101</th>\n",
       "      <td>-3.2</td>\n",
       "      <td>C</td>\n",
       "      <td>0.375000</td>\n",
       "      <td>-122.2</td>\n",
       "      <td>154.6</td>\n",
       "      <td>67.66</td>\n",
       "      <td>37.0</td>\n",
       "      <td>64.71</td>\n",
       "      <td>44.0</td>\n",
       "      <td>2.94</td>\n",
       "      <td>...</td>\n",
       "      <td>21.7</td>\n",
       "      <td>8</td>\n",
       "      <td>18</td>\n",
       "      <td>0.437205</td>\n",
       "      <td>7</td>\n",
       "      <td>19</td>\n",
       "      <td>26</td>\n",
       "      <td>1.809812</td>\n",
       "      <td>1.999301</td>\n",
       "      <td>V</td>\n",
       "    </tr>\n",
       "  </tbody>\n",
       "</table>\n",
       "<p>5 rows × 24 columns</p>\n",
       "</div>"
      ],
      "text/plain": [
       "     Hydropathy SS       RSA    PHI    PSI  all_atoms_abs  all_atoms_rel  \\\n",
       "97         -1.3  E  0.680180 -134.4  152.6         142.34           66.9   \n",
       "98         -0.7  E  0.281690  -73.8  132.0          39.73           28.5   \n",
       "99         -0.9  E  0.202643 -103.5  117.0          47.49           19.0   \n",
       "100         2.8  E  0.071066 -108.3  153.3          14.10            7.1   \n",
       "101        -3.2  C  0.375000 -122.2  154.6          67.66           37.0   \n",
       "\n",
       "     side_chain_abs  side_chain_rel  main_chain_abs  ...  all_polar_rel  \\\n",
       "97           116.75            65.8           25.59  ...           86.4   \n",
       "98            39.07            38.4            0.66  ...           28.1   \n",
       "99            42.02            19.9            5.46  ...            9.2   \n",
       "100           14.10             8.6            0.00  ...            0.0   \n",
       "101           64.71            44.0            2.94  ...           21.7   \n",
       "\n",
       "     CA_Up  CA_down  CA_PCB_Angle  CA_Up.1  CA_down.1  CA_Count_r12  \\\n",
       "97       8       11      0.550271        7         12            19   \n",
       "98       6       22      0.381768        8         20            28   \n",
       "99      13       15      0.353163       10         18            28   \n",
       "100     13       18      0.492913       19         12            31   \n",
       "101      8       18      0.437205        7         19            26   \n",
       "\n",
       "     Residue_Depth  CA_Depth  Target  \n",
       "97        1.824456  2.302332       V  \n",
       "98        2.488649  2.664093       V  \n",
       "99        2.527140  3.313983       V  \n",
       "100       2.413790  1.999542       V  \n",
       "101       1.809812  1.999301       V  \n",
       "\n",
       "[5 rows x 24 columns]"
      ]
     },
     "execution_count": 11,
     "metadata": {},
     "output_type": "execute_result"
    }
   ],
   "source": [
    "X.head()"
   ]
  },
  {
   "cell_type": "code",
   "execution_count": 12,
   "id": "1a194533",
   "metadata": {},
   "outputs": [],
   "source": [
    "Clade = {'G':0, 'L':1, 'S':2,'V':3}\n",
    "SS_Num = {\"H\":1, \"E\":2, \"C\":3}\n",
    "X['Target']= X['Target'].apply(lambda x: Clade[x])\n",
    "X['SS'] = X['SS'].apply(lambda x: SS_Num[x])"
   ]
  },
  {
   "cell_type": "code",
   "execution_count": 13,
   "id": "12744149",
   "metadata": {},
   "outputs": [],
   "source": [
    "#F_names = fields_1[:-1] #Selected Feature Names\n",
    "F_names = fields_4[:-1] #Selected Feature Names"
   ]
  },
  {
   "cell_type": "code",
   "execution_count": 44,
   "id": "bbb8f64f",
   "metadata": {},
   "outputs": [
    {
     "ename": "IndexError",
     "evalue": "only integers, slices (`:`), ellipsis (`...`), numpy.newaxis (`None`) and integer or boolean arrays are valid indices",
     "output_type": "error",
     "traceback": [
      "\u001b[0;31m---------------------------------------------------------------------------\u001b[0m",
      "\u001b[0;31mIndexError\u001b[0m                                Traceback (most recent call last)",
      "Input \u001b[0;32mIn [44]\u001b[0m, in \u001b[0;36m<cell line: 3>\u001b[0;34m()\u001b[0m\n\u001b[1;32m      1\u001b[0m \u001b[38;5;66;03m#Set up X and Y for XGBoost Training\u001b[39;00m\n\u001b[0;32m----> 3\u001b[0m Y \u001b[38;5;241m=\u001b[39m\u001b[43mX\u001b[49m\u001b[43m[\u001b[49m\u001b[38;5;124;43m'\u001b[39;49m\u001b[38;5;124;43mTarget\u001b[39;49m\u001b[38;5;124;43m'\u001b[39;49m\u001b[43m]\u001b[49m\n\u001b[1;32m      4\u001b[0m X \u001b[38;5;241m=\u001b[39mX[F_names]\n\u001b[1;32m      5\u001b[0m X \u001b[38;5;241m=\u001b[39m X\u001b[38;5;241m.\u001b[39mto_numpy()\n",
      "\u001b[0;31mIndexError\u001b[0m: only integers, slices (`:`), ellipsis (`...`), numpy.newaxis (`None`) and integer or boolean arrays are valid indices"
     ]
    }
   ],
   "source": [
    "#Set up X and Y for XGBoost Training\n",
    "\n",
    "Y =X['Target']\n",
    "X =X[F_names]\n",
    "X = X.to_numpy()\n",
    "Y = Y.to_numpy()\n",
    "print(\"X - Type:\", type(X), \"Shape:\", X.shape)\n",
    "print(\"Y - Type:\", type(Y), \"Shape:\", Y.shape)\n",
    "\n"
   ]
  },
  {
   "cell_type": "code",
   "execution_count": 16,
   "id": "13cc1adc-2c66-4661-8377-1965bb8e48da",
   "metadata": {},
   "outputs": [
    {
     "data": {
      "text/plain": [
       "[Text(0.5, 1.0, 'True Label Distribution'), Text(0, 0.5, 'Count')]"
      ]
     },
     "execution_count": 16,
     "metadata": {},
     "output_type": "execute_result"
    },
    {
     "data": {
      "image/png": "[encoded data removed]",
      "text/plain": [
       "<Figure size 432x288 with 1 Axes>"
      ]
     },
     "metadata": {
      "needs_background": "light"
     },
     "output_type": "display_data"
    }
   ],
   "source": [
    "sns.countplot(x=Y).set(title = 'True Label Distribution', ylabel = 'Count')"
   ]
  },
  {
   "cell_type": "code",
   "execution_count": 17,
   "id": "609e213e",
   "metadata": {},
   "outputs": [
    {
     "name": "stdout",
     "output_type": "stream",
     "text": [
      "Type: <class 'numpy.ndarray'> Shape: (39483,)\n"
     ]
    }
   ],
   "source": [
    "## Prepare vector of randomly generated labels\n",
    "n = 4\n",
    "np.random.seed(1)\n",
    "R = np.random.randint(n, size=(len(Y),))\n",
    "#R=R.tolist()\n",
    "print(\"Type:\", type(R), \"Shape:\", R.shape)"
   ]
  },
  {
   "cell_type": "code",
   "execution_count": 18,
   "id": "51b0967a-15f4-4156-9ec0-da9745d02564",
   "metadata": {},
   "outputs": [
    {
     "data": {
      "text/plain": [
       "[Text(0.5, 1.0, 'Random Label Distribution'), Text(0, 0.5, 'Count')]"
      ]
     },
     "execution_count": 18,
     "metadata": {},
     "output_type": "execute_result"
    },
    {
     "data": {
      "image/png": "[encoded data removed]",
      "text/plain": [
       "<Figure size 432x288 with 1 Axes>"
      ]
     },
     "metadata": {
      "needs_background": "light"
     },
     "output_type": "display_data"
    }
   ],
   "source": [
    "sns.countplot(x=R).set(title = 'Random Label Distribution', ylabel = 'Count')"
   ]
  },
  {
   "cell_type": "code",
   "execution_count": 45,
   "id": "f5913268",
   "metadata": {},
   "outputs": [],
   "source": [
    "# Test protocol.\n",
    "#Prepare for actual Target and Randomly assigned SARS_COV2\n",
    "\n",
    "from sklearn.model_selection import train_test_split\n",
    "from sklearn.metrics import accuracy_score\n",
    "from sklearn.feature_selection import SelectFromModel\n",
    "from sklearn.ensemble import RandomForestClassifier"
   ]
  },
  {
   "cell_type": "code",
   "execution_count": 46,
   "id": "7bc40ef5",
   "metadata": {},
   "outputs": [
    {
     "name": "stdout",
     "output_type": "stream",
     "text": [
      "(29612, 23)\n",
      "(9871, 23)\n"
     ]
    }
   ],
   "source": [
    "#Using train_test_split()\n",
    "X_train, X_test, Y_train, Y_test= train_test_split(X, Y, test_size=0.25, random_state = 1)\n",
    "XR_train, XR_test, R_train, R_test= train_test_split(X, R, test_size=0.25, random_state = 1)\n",
    "\n",
    "print(XR_train.shape)\n",
    "print(XR_test.shape)"
   ]
  },
  {
   "cell_type": "code",
   "execution_count": 47,
   "id": "fa1ddeb3",
   "metadata": {},
   "outputs": [],
   "source": [
    "model=XGBClassifier(importance_type='gain', eval_metric='error', use_label_encoder=False)"
   ]
  },
  {
   "cell_type": "code",
   "execution_count": 48,
   "id": "2696e8cb",
   "metadata": {},
   "outputs": [],
   "source": [
    "model.fit(X_train, Y_train)\n",
    "Y_hat = model.predict(X_test)"
   ]
  },
  {
   "cell_type": "code",
   "execution_count": 49,
   "id": "aa0b66e3",
   "metadata": {},
   "outputs": [
    {
     "name": "stdout",
     "output_type": "stream",
     "text": [
      "Accuracy: 56.31\n"
     ]
    }
   ],
   "source": [
    "accuracy = accuracy_score(Y_test, Y_hat)\n",
    "print('Accuracy: %.2f' % (accuracy*100))"
   ]
  },
  {
   "cell_type": "code",
   "execution_count": 50,
   "id": "629f3144",
   "metadata": {},
   "outputs": [],
   "source": [
    "Rmodel=XGBClassifier(importance_type='gain', eval_metric='error', use_label_encoder=False)\n",
    "Rmodel.fit(XR_train, R_train)\n",
    "R_hat = model.predict(XR_test)"
   ]
  },
  {
   "cell_type": "code",
   "execution_count": 51,
   "id": "d0921121",
   "metadata": {},
   "outputs": [
    {
     "name": "stdout",
     "output_type": "stream",
     "text": [
      "Accuracy: 24.92\n"
     ]
    }
   ],
   "source": [
    "accuracy = accuracy_score(R_test, R_hat)\n",
    "print('Accuracy: %.2f' % (accuracy*100))"
   ]
  },
  {
   "cell_type": "code",
   "execution_count": 52,
   "id": "341480c8-af80-4ac1-a1b8-663e446fd6ec",
   "metadata": {},
   "outputs": [],
   "source": [
    "np.random.seed(1)"
   ]
  },
  {
   "cell_type": "code",
   "execution_count": null,
   "id": "10fd8c5a",
   "metadata": {},
   "outputs": [],
   "source": [
    "#### Average of n runs\n",
    "\n",
    "n = 100\n",
    "ActualLabel = []\n",
    "RandomLabel = []\n",
    "\n",
    "\n",
    "for i in range(n):\n",
    "   \n",
    "    X_train, X_test, Y_train, Y_test= train_test_split(X, Y, test_size=0.25)\n",
    "    XR_train, XR_test, R_train, R_test= train_test_split(X, R, test_size=0.25)\n",
    "    model=XGBClassifier(importance_type='gain', eval_metric='error', use_label_encoder=False)\n",
    "    model.fit(X_train, Y_train)\n",
    "    Y_hat = model.predict(X_test)\n",
    "    accuracy = accuracy_score(Y_test, Y_hat)\n",
    "    ActualLabel.append(accuracy)\n",
    "    print('Round %0d:'% (i))\n",
    "    print('True Label Accuracy: %.2f' % (accuracy*100))\n",
    "    Rmodel=XGBClassifier(importance_type='gain', eval_metric='error', use_label_encoder=False)\n",
    "    Rmodel.fit(XR_train, R_train)\n",
    "    R_hat = model.predict(XR_test)\n",
    "    accuracy = accuracy_score(R_test, R_hat)\n",
    "    RandomLabel.append(accuracy)\n",
    "    print('Random Label Accuracy: %.2f' % (accuracy*100))\n",
    "   \n"
   ]
  },
  {
   "cell_type": "code",
   "execution_count": 41,
   "id": "2bd59759",
   "metadata": {},
   "outputs": [],
   "source": [
    "A1 = np.asarray(ActualLabel)\n",
    "R1 = np.asarray(RandomLabel)"
   ]
  },
  {
   "cell_type": "code",
   "execution_count": 42,
   "id": "0d861ae1",
   "metadata": {},
   "outputs": [
    {
     "name": "stdout",
     "output_type": "stream",
     "text": [
      "True mean: 56.40; True s.t.d: 0.005\n"
     ]
    }
   ],
   "source": [
    "A1_mean = np.mean(A1)\n",
    "A1_std = np.std(A1)\n",
    "print('True mean: %.2f; True s.t.d: %.3f' %(A1_mean*100, A1_std))"
   ]
  },
  {
   "cell_type": "code",
   "execution_count": 43,
   "id": "bc59de8b",
   "metadata": {},
   "outputs": [
    {
     "name": "stdout",
     "output_type": "stream",
     "text": [
      "Random mean: 24.92; Random s.t.d: 0.004\n"
     ]
    }
   ],
   "source": [
    "R1_mean = np.mean(R1)\n",
    "R1_std = np.std(R1)\n",
    "print('Random mean: %.2f; Random s.t.d: %.3f' %(R1_mean*100, R1_std))"
   ]
  },
  {
   "cell_type": "code",
   "execution_count": null,
   "id": "e7d6a1df",
   "metadata": {},
   "outputs": [],
   "source": [
    "# Uncomment for feature selection\n",
    "# def select_features(X_train, y_train, X_test):\n",
    "#     #Code by Jason Brownlee, MachineLearningMastery.com\n",
    "# \t# configure to select a subset of features\n",
    "# \tfs = SelectFromModel(RandomForestClassifier(n_estimators=1000), max_features=15)\n",
    "# \t# learn relationship from training data\n",
    "# \tfs.fit(X_train, y_train)\n",
    "# \t# transform train input data\n",
    "# \tX_train_fs = fs.transform(X_train)\n",
    "# \t# transform test input data\n",
    "# \tX_test_fs = fs.transform(X_test)\n",
    "# \treturn X_train_fs, X_test_fs, fs"
   ]
  },
  {
   "cell_type": "code",
   "execution_count": null,
   "id": "e2b626cb",
   "metadata": {},
   "outputs": [],
   "source": [
    "# X_train_fs, X_test_fs, fs = select_features(X_train, Y_train, X_test)\n",
    "# XR_train_fs, XR_test_fs, Rfs = select_features(XR_train, R_train, XR_test)\n",
    "# model=XGBClassifier(importance_type = 'gain')\n",
    "\n",
    "# model.fit(X_train_fs, Y_train)\n",
    "# Y_hat = model.predict(X_test_fs)\n",
    "\n",
    "\n",
    "# accuracy = accuracy_score(Y_test, Y_hat)\n",
    "# print('Accuracy: %.2f' % (accuracy*100))\n",
    "\n",
    "\n",
    "# Rmodel=XGBClassifier(importance_type = 'gain')\n",
    "# Rmodel.fit(XR_train_fs, R_train)\n",
    "# R_hat = model.predict(XR_test_fs)"
   ]
  }
 ],
 "metadata": {
  "kernelspec": {
   "display_name": "Python 3 (ipykernel)",
   "language": "python",
   "name": "python3"
  },
  "language_info": {
   "codemirror_mode": {
    "name": "ipython",
    "version": 3
   },
   "file_extension": ".py",
   "mimetype": "text/x-python",
   "name": "python",
   "nbconvert_exporter": "python",
   "pygments_lexer": "ipython3",
   "version": "3.9.13"
  }
 },
 "nbformat": 4,
 "nbformat_minor": 5
}
