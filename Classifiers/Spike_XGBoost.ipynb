{
 "cells": [
  {
   "cell_type": "code",
   "execution_count": null,
   "id": "4040b7b7-8ea4-4f26-a9b1-ea4d2eeedfe0",
   "metadata": {},
   "outputs": [],
   "source": [
    "# Notebook written by Shamima Rashid, Nanyang Technological University, Singapore. June 2022.\n",
    "# Adapted from: machinelearningmastery.com (Jason Brownlee). \n",
    "#Version Information:\n",
    "#xgboost 1.5.1\n",
    "#scipy 1.8.1"
   ]
  },
  {
   "cell_type": "code",
   "execution_count": null,
   "id": "65ea0777",
   "metadata": {},
   "outputs": [],
   "source": [
    "import pandas as pd\n",
    "import pandas_profiling as pp\n",
    "import numpy as np\n",
    "import matplotlib.pyplot as plt\n",
    "from mpl_toolkits.mplot3d import Axes3D\n",
    "#import sklearn\n",
    "import seaborn as sns\n",
    "from xgboost import XGBClassifier\n",
    "import scipy\n",
    "from pylab import savefig\n",
    "\n",
    "#comment if 'A value is trying to be set on a slice of a copy of a dataframe' warning is needed\n",
    "pd.options.mode.chained_assignment = None  # default='warn'\n",
    "\n"
   ]
  },
  {
   "cell_type": "code",
   "execution_count": null,
   "id": "708573ca",
   "metadata": {},
   "outputs": [],
   "source": [
    "fn1 = \"Sites_final_SARSCoV2.csv\" #Cleaned datafile with 54484 records\n",
    "                                 #B-factors not applicable as many are cryo-EM files "
   ]
  },
  {
   "cell_type": "code",
   "execution_count": null,
   "id": "3494ea11",
   "metadata": {},
   "outputs": [],
   "source": [
    "###Only 10 relevant features are selected. Non-informative features (eg all zero columns, high correlation) \n",
    "###identified in profile report were removed\n",
    "fields_1 = ['Hydropathy', 'SS', 'RSA', 'PHI', 'PSI', 'main_chain_rel', 'CA_Up', 'CA_down', 'CA_PCB_Angle', \n",
    "            'Residue_Depth', 'Target'] #10 features\n",
    "fields_2 = ['Hydropathy', 'SS', 'RSA', 'PHI', 'PSI', 'main_chain_rel', 'all_polar_rel', 'CA_Up', \n",
    "             'CA_down', 'CA_PCB_Angle','CA_Up.1','CA_down.1', 'CA_Count_r12',\t'Residue_Depth',\n",
    "             'CA_Depth', 'Target'] #15 features\n",
    "fields_4 = ['Hydropathy','SS','RSA','PHI','PSI','all_atoms_abs','all_atoms_rel','side_chain_abs',\n",
    "            'side_chain_rel','main_chain_abs','main_chain_rel',\t'non_polar_abs','non_polar_rel',\n",
    "            'all_polar_abs', 'all_polar_rel', 'CA_Up', 'CA_down', 'CA_PCB_Angle', 'CA_Up.1', \n",
    "            'CA_down.1', 'CA_Count_r12','Residue_Depth','CA_Depth','Target'] #23 features\n"
   ]
  },
  {
   "cell_type": "code",
   "execution_count": null,
   "id": "1319aaaf",
   "metadata": {},
   "outputs": [],
   "source": [
    "#df = pd.read_csv(fn1, usecols=fields_1)\n",
    "df = pd.read_csv(fn1, usecols=fields_4)"
   ]
  },
  {
   "cell_type": "code",
   "execution_count": null,
   "id": "5299e640",
   "metadata": {},
   "outputs": [],
   "source": [
    "#df.profile_report()\n",
    "df.head(10)"
   ]
  },
  {
   "cell_type": "code",
   "execution_count": null,
   "id": "1978bc04",
   "metadata": {},
   "outputs": [],
   "source": [
    "### Drop Clade 'O' for 4-Clade classification.\n",
    "X = df[df['Target'] != 'O']\n"
   ]
  },
  {
   "cell_type": "code",
   "execution_count": null,
   "id": "7ddbec23",
   "metadata": {},
   "outputs": [],
   "source": [
    "X.head()"
   ]
  },
  {
   "cell_type": "code",
   "execution_count": null,
   "id": "1a194533",
   "metadata": {},
   "outputs": [],
   "source": [
    "Clade = {'G':0, 'L':1, 'S':2,'V':3}\n",
    "SS_Num = {\"H\":1, \"E\":2, \"C\":3}\n",
    "X['Target']= X['Target'].apply(lambda x: Clade[x])\n",
    "X['SS'] = X['SS'].apply(lambda x: SS_Num[x])"
   ]
  },
  {
   "cell_type": "code",
   "execution_count": null,
   "id": "12744149",
   "metadata": {},
   "outputs": [],
   "source": [
    "#F_names = fields_1[:-1] #Selected Feature Names\n",
    "F_names = fields_4[:-1] #Selected Feature Names"
   ]
  },
  {
   "cell_type": "code",
   "execution_count": null,
   "id": "bbb8f64f",
   "metadata": {},
   "outputs": [],
   "source": [
    "#Set up X and Y for XGBoost Training\n",
    "\n",
    "Y =X['Target']\n",
    "X =X[F_names]\n",
    "X = X.to_numpy()\n",
    "Y = Y.to_numpy()\n",
    "print(\"X - Type:\", type(X), \"Shape:\", X.shape)\n",
    "print(\"Y - Type:\", type(Y), \"Shape:\", Y.shape)\n",
    "\n"
   ]
  },
  {
   "cell_type": "code",
   "execution_count": null,
   "id": "13cc1adc-2c66-4661-8377-1965bb8e48da",
   "metadata": {},
   "outputs": [],
   "source": [
    "sns.countplot(x=Y).set(title = 'True Label Distribution', ylabel = 'Count')"
   ]
  },
  {
   "cell_type": "code",
   "execution_count": null,
   "id": "609e213e",
   "metadata": {},
   "outputs": [],
   "source": [
    "## Prepare vector of randomly generated labels\n",
    "n = 4\n",
    "np.random.seed(1)\n",
    "R = np.random.randint(n, size=(len(Y),))\n",
    "#R=R.tolist()\n",
    "print(\"Type:\", type(R), \"Shape:\", R.shape)"
   ]
  },
  {
   "cell_type": "code",
   "execution_count": null,
   "id": "51b0967a-15f4-4156-9ec0-da9745d02564",
   "metadata": {},
   "outputs": [],
   "source": [
    "sns.countplot(x=R).set(title = 'Random Label Distribution', ylabel = 'Count')"
   ]
  },
  {
   "cell_type": "code",
   "execution_count": null,
   "id": "f5913268",
   "metadata": {},
   "outputs": [],
   "source": [
    "# Test protocol.\n",
    "#Prepare for actual Target and Randomly assigned SARS_COV2\n",
    "\n",
    "from sklearn.model_selection import train_test_split\n",
    "from sklearn.metrics import accuracy_score\n",
    "from sklearn.feature_selection import SelectFromModel\n",
    "from sklearn.ensemble import RandomForestClassifier"
   ]
  },
  {
   "cell_type": "code",
   "execution_count": null,
   "id": "7bc40ef5",
   "metadata": {},
   "outputs": [],
   "source": [
    "#Using train_test_split()\n",
    "X_train, X_test, Y_train, Y_test= train_test_split(X, Y, test_size=0.25, random_state = 1)\n",
    "XR_train, XR_test, R_train, R_test= train_test_split(X, R, test_size=0.25, random_state = 1)\n",
    "\n",
    "print(XR_train.shape)\n",
    "print(XR_test.shape)"
   ]
  },
  {
   "cell_type": "code",
   "execution_count": null,
   "id": "fa1ddeb3",
   "metadata": {},
   "outputs": [],
   "source": [
    "model=XGBClassifier(importance_type='gain', eval_metric='error', use_label_encoder=False)"
   ]
  },
  {
   "cell_type": "code",
   "execution_count": null,
   "id": "2696e8cb",
   "metadata": {},
   "outputs": [],
   "source": [
    "model.fit(X_train, Y_train)\n",
    "Y_hat = model.predict(X_test)"
   ]
  },
  {
   "cell_type": "code",
   "execution_count": null,
   "id": "aa0b66e3",
   "metadata": {},
   "outputs": [],
   "source": [
    "accuracy = accuracy_score(Y_test, Y_hat)\n",
    "print('Accuracy: %.2f' % (accuracy*100))"
   ]
  },
  {
   "cell_type": "code",
   "execution_count": null,
   "id": "629f3144",
   "metadata": {},
   "outputs": [],
   "source": [
    "Rmodel=XGBClassifier(importance_type='gain', eval_metric='error', use_label_encoder=False)\n",
    "Rmodel.fit(XR_train, R_train)\n",
    "R_hat = model.predict(XR_test)"
   ]
  },
  {
   "cell_type": "code",
   "execution_count": null,
   "id": "d0921121",
   "metadata": {},
   "outputs": [],
   "source": [
    "accuracy = accuracy_score(R_test, R_hat)\n",
    "print('Accuracy: %.2f' % (accuracy*100))"
   ]
  },
  {
   "cell_type": "code",
   "execution_count": null,
   "id": "341480c8-af80-4ac1-a1b8-663e446fd6ec",
   "metadata": {},
   "outputs": [],
   "source": [
    "np.random.seed(1)"
   ]
  },
  {
   "cell_type": "code",
   "execution_count": null,
   "id": "10fd8c5a",
   "metadata": {},
   "outputs": [],
   "source": [
    "#### Average of n runs\n",
    "\n",
    "n = 100\n",
    "ActualLabel = []\n",
    "RandomLabel = []\n",
    "\n",
    "\n",
    "for i in range(n):\n",
    "   \n",
    "    X_train, X_test, Y_train, Y_test= train_test_split(X, Y, test_size=0.25)\n",
    "    XR_train, XR_test, R_train, R_test= train_test_split(X, R, test_size=0.25)\n",
    "    model=XGBClassifier(importance_type='gain', eval_metric='error', use_label_encoder=False)\n",
    "    model.fit(X_train, Y_train)\n",
    "    Y_hat = model.predict(X_test)\n",
    "    accuracy = accuracy_score(Y_test, Y_hat)\n",
    "    ActualLabel.append(accuracy)\n",
    "    print('Round %0d:'% (i))\n",
    "    print('True Label Accuracy: %.2f' % (accuracy*100))\n",
    "    Rmodel=XGBClassifier(importance_type='gain', eval_metric='error', use_label_encoder=False)\n",
    "    Rmodel.fit(XR_train, R_train)\n",
    "    R_hat = model.predict(XR_test)\n",
    "    accuracy = accuracy_score(R_test, R_hat)\n",
    "    RandomLabel.append(accuracy)\n",
    "    print('Random Label Accuracy: %.2f' % (accuracy*100))\n",
    "   \n"
   ]
  },
  {
   "cell_type": "code",
   "execution_count": null,
   "id": "2bd59759",
   "metadata": {},
   "outputs": [],
   "source": [
    "A1 = np.asarray(ActualLabel)\n",
    "R1 = np.asarray(RandomLabel)"
   ]
  },
  {
   "cell_type": "code",
   "execution_count": null,
   "id": "0d861ae1",
   "metadata": {},
   "outputs": [],
   "source": [
    "A1_mean = np.mean(A1)\n",
    "A1_std = np.std(A1)\n",
    "print('True mean: %.2f; True s.t.d: %.3f' %(A1_mean*100, A1_std))"
   ]
  },
  {
   "cell_type": "code",
   "execution_count": null,
   "id": "bc59de8b",
   "metadata": {},
   "outputs": [],
   "source": [
    "R1_mean = np.mean(R1)\n",
    "R1_std = np.std(R1)\n",
    "print('Random mean: %.2f; Random s.t.d: %.3f' %(R1_mean*100, R1_std))"
   ]
  },
  {
   "cell_type": "code",
   "execution_count": null,
   "id": "e7d6a1df",
   "metadata": {},
   "outputs": [],
   "source": [
    "# Uncomment for feature selection\n",
    "# def select_features(X_train, y_train, X_test):\n",
    "#     #Code by Jason Brownlee, MachineLearningMastery.com\n",
    "# \t# configure to select a subset of features\n",
    "# \tfs = SelectFromModel(RandomForestClassifier(n_estimators=1000), max_features=15)\n",
    "# \t# learn relationship from training data\n",
    "# \tfs.fit(X_train, y_train)\n",
    "# \t# transform train input data\n",
    "# \tX_train_fs = fs.transform(X_train)\n",
    "# \t# transform test input data\n",
    "# \tX_test_fs = fs.transform(X_test)\n",
    "# \treturn X_train_fs, X_test_fs, fs"
   ]
  },
  {
   "cell_type": "code",
   "execution_count": null,
   "id": "e2b626cb",
   "metadata": {},
   "outputs": [],
   "source": [
    "# X_train_fs, X_test_fs, fs = select_features(X_train, Y_train, X_test)\n",
    "# XR_train_fs, XR_test_fs, Rfs = select_features(XR_train, R_train, XR_test)\n",
    "# model=XGBClassifier(importance_type = 'gain')\n",
    "\n",
    "# model.fit(X_train_fs, Y_train)\n",
    "# Y_hat = model.predict(X_test_fs)\n",
    "\n",
    "\n",
    "# accuracy = accuracy_score(Y_test, Y_hat)\n",
    "# print('Accuracy: %.2f' % (accuracy*100))\n",
    "\n",
    "\n",
    "# Rmodel=XGBClassifier(importance_type = 'gain')\n",
    "# Rmodel.fit(XR_train_fs, R_train)\n",
    "# R_hat = model.predict(XR_test_fs)"
   ]
  }
 ],
 "metadata": {
  "kernelspec": {
   "display_name": "Python 3 (ipykernel)",
   "language": "python",
   "name": "python3"
  },
  "language_info": {
   "codemirror_mode": {
    "name": "ipython",
    "version": 3
   },
   "file_extension": ".py",
   "mimetype": "text/x-python",
   "name": "python",
   "nbconvert_exporter": "python",
   "pygments_lexer": "ipython3",
   "version": "3.9.13"
  }
 },
 "nbformat": 4,
 "nbformat_minor": 5
}
