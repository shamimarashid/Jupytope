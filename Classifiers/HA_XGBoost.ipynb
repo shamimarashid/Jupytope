{
 "cells": [
  {
   "cell_type": "code",
   "execution_count": null,
   "id": "fc0e24ee-6755-44f0-a546-0f29f71cbb2b",
   "metadata": {},
   "outputs": [],
   "source": [
    "# Notebook written by Shamima Rashid, Nanyang Technological University, Singapore. June 2022.\n",
    "# XGBoost portions were adapted from: machinelearningmastery.com (Jason Brownlee). \n",
    "#Version Information:\n",
    "#xgboost 1.5.1\n",
    "#scipy 1.8.1"
   ]
  },
  {
   "cell_type": "code",
   "execution_count": null,
   "id": "5aa657b6",
   "metadata": {},
   "outputs": [],
   "source": [
    "import pandas as pd\n",
    "import pandas_profiling as pp\n",
    "import numpy as np\n",
    "import matplotlib.pyplot as plt\n",
    "import seaborn as sns\n",
    "from mpl_toolkits.mplot3d import Axes3D\n",
    "from xgboost import XGBClassifier\n",
    "import scipy"
   ]
  },
  {
   "cell_type": "code",
   "execution_count": null,
   "id": "53419ef0",
   "metadata": {},
   "outputs": [],
   "source": [
    "fn1 = \"Sites_final_Influenza.csv\" #Cleaned datafile with 19911 records\n",
    "                                  #Update with B-factor and try"
   ]
  },
  {
   "cell_type": "code",
   "execution_count": null,
   "id": "51121767",
   "metadata": {},
   "outputs": [],
   "source": [
    "###Only relevant features are selected in fields_1. Non-informative features (eg all zero columns, high correlation) identified with\n",
    "### pandas profile report were removed \n",
    "fields_1 = ['Hydropathy', 'SS', 'RSA', 'PHI', 'PSI', 'main_chain_rel', 'all_polar_rel', 'CA_Up', 'CA_down', 'CA_PCB_Angle',\n",
    "            'CA_Up.1','CA_down.1', 'CA_Count_r12',\t'Residue_Depth','CA_Depth', 'B_Norm', 'Target'] #16 features\n",
    "fields_2 = ['Hydropathy', 'SS', 'RSA', 'PHI', 'PSI', 'main_chain_rel', 'CA_Up', 'CA_down', 'CA_PCB_Angle', \n",
    "            'Residue_Depth','B_Norm', 'Target'] #11 features\n",
    "# fields_3 = ['Hydropathy', 'SS', 'RSA', 'PHI', 'PSI', 'main_chain_rel', 'CA_Up', 'CA_down', 'CA_PCB_Angle', 'Residue_Depth','B_Norm']\n",
    "# fields_4 = ['Hydropathy','SS','RSA','PHI','PSI','all_atoms_abs','all_atoms_rel','side_chain_abs',\n",
    "#             'side_chain_rel','main_chain_abs','main_chain_rel',\t'non_polar_abs','non_polar_rel',\n",
    "#             'all_polar_abs', 'all_polar_rel', 'CA_Up', 'CA_down', 'CA_PCB_Angle', 'CA_Up.1', \n",
    "#             'CA_down.1', 'CA_Count_r12','Residue_Depth','CA_Depth','B_Norm', 'Target']"
   ]
  },
  {
   "cell_type": "code",
   "execution_count": null,
   "id": "6f95b1f4",
   "metadata": {},
   "outputs": [],
   "source": [
    "df = pd.read_csv(fn1, usecols=fields_1)\n",
    "df = df.sample(frac=1) #shuffle the rows"
   ]
  },
  {
   "cell_type": "code",
   "execution_count": null,
   "id": "426fe253",
   "metadata": {},
   "outputs": [],
   "source": [
    "Subtype = {\"H1N1\":0, \"H3N2\":1}\n",
    "SS_Num = {\"H\":1, \"E\":2, \"C\":3}\n"
   ]
  },
  {
   "cell_type": "markdown",
   "id": "c0f73046",
   "metadata": {},
   "source": [
    "### Feature Distribution and Importance"
   ]
  },
  {
   "cell_type": "code",
   "execution_count": null,
   "id": "5aeee776",
   "metadata": {},
   "outputs": [],
   "source": [
    "##Descriptive Statistics\n",
    "#df.describe()\n",
    "#df.head()"
   ]
  },
  {
   "cell_type": "code",
   "execution_count": null,
   "id": "53a30c10",
   "metadata": {},
   "outputs": [],
   "source": [
    "df['Target']= df['Target'].apply(lambda x: Subtype[x])\n",
    "df['SS'] = df['SS'].apply(lambda x: SS_Num[x])"
   ]
  },
  {
   "cell_type": "code",
   "execution_count": null,
   "id": "300763d5",
   "metadata": {},
   "outputs": [],
   "source": [
    "##Target Variable countplot\n",
    "sns.set_style('darkgrid')\n",
    "p = sns.countplot(x = 'Target', data=df, color='navy').set(title='Actual Subtypes of Influenza', ylabel= 'No. of Residues', xlabel='')\n"
   ]
  },
  {
   "cell_type": "code",
   "execution_count": null,
   "id": "45d12a88",
   "metadata": {},
   "outputs": [],
   "source": [
    "sns.countplot(x='SS', data = df)"
   ]
  },
  {
   "cell_type": "code",
   "execution_count": null,
   "id": "9f2a6777",
   "metadata": {},
   "outputs": [],
   "source": [
    "pretty = {'PHI':\"$\\phi$'\", 'PSI':\"$\\psi$\", 'main_chain_rel':\"Main Chain RSA\", \n",
    "          'all_polar_rel':\"All Polar RSA\", 'CA_Up':\"$C\\alpha Up$\", 'CA_down':\"$C\\alpha Down$\", \n",
    "          'CA_PCB_Angle':\"$C\\alpha P C\\beta Angle$ \", 'CA_Up.1':\"$C\\alpha Up.1$\",'CA_down.1':\"$C\\alpha Down.1$\", \n",
    "          'CA_Count_r12':\"$C\\alpha Count r12$\",\t'Residue_Depth':\"Residue Depth\",'CA_Depth':\"$C\\alpha Depth$\", 'B_Norm':\"B Norm\"}    "
   ]
  },
  {
   "cell_type": "code",
   "execution_count": null,
   "id": "28ddf56b",
   "metadata": {},
   "outputs": [],
   "source": [
    "## Target variable plot seperations\n",
    "idx_train = df['Target'].astype(\"bool\").values\n",
    "fig, axes = plt.subplots(4,4,figsize=(20,15))\n",
    "sns.set_style('darkgrid')\n",
    "axes = [x for a in axes for x in a]\n",
    "\n",
    "pretty = {'PHI':\"$\\phi$\", 'PSI':\"$\\psi$\", 'main_chain_rel':\"Main Chain RSA\", \n",
    "          'all_polar_rel':\"All Polar RSA\", 'CA_Up':r'C$\\alpha$ Up', 'CA_down':r'C$\\alpha$ Down', \n",
    "          'CA_PCB_Angle':r'C$\\alpha$ PC$\\beta$ Angle', 'CA_Up.1':r'C$\\alpha$ Up.1','CA_down.1':r'C$\\alpha$ Down.1', \n",
    "          'CA_Count_r12':r'C$\\alpha$ Count r12', 'Residue_Depth':\"Residue Depth\",'CA_Depth':r'C$\\alpha$ Depth', 'B_Norm':\"B Norm\"}\n",
    "for i,name in enumerate(fields_1[:-1]): #all columns in df except target\n",
    "    value = df[name]\n",
    "    sns.distplot(value[~idx_train],ax = axes[i], color='red')\n",
    "    sns.distplot(value[idx_train],ax = axes[i], color = 'blue')\n",
    "    if name in pretty:        \n",
    "        axes[i].set_xlabel(pretty[name],fontsize=12)\n",
    "        \n",
    "    if name == 'SS':\n",
    "        #x_labels = ['H', 'E', 'C']\n",
    "        axes[i].set_xticks([1, 2, 3])\n",
    "        axes[i].set_xticklabels(['H', 'E','C'])\n",
    "  \n",
    "    fig.suptitle('Distribution of 16 Structural Properties for Influenza', fontsize = 22, fontweight='bold')   \n",
    "    fig.legend(labels = [\"H1N1\",\"H3N2\"],loc=\"upper right\",fontsize=12)\n",
    "    fig.tight_layout()"
   ]
  },
  {
   "cell_type": "code",
   "execution_count": null,
   "id": "289230f3-4970-4b28-b561-df719a3886d0",
   "metadata": {},
   "outputs": [],
   "source": [
    "#fig.savefig('Influenza_FeaturesDistPlot16.png', format='png', dpi=300, bbox_inches='tight')"
   ]
  },
  {
   "cell_type": "code",
   "execution_count": null,
   "id": "d589e3f0",
   "metadata": {},
   "outputs": [],
   "source": [
    "F_names = fields_2[:-1]\n",
    "\n",
    "X = df[F_names]\n",
    "Y = df['Target']\n",
    "X = X.to_numpy()\n",
    "Y = Y.to_numpy()\n",
    "print(\"X:\", X.shape)\n",
    "print(\"Y:\", Y.shape)"
   ]
  },
  {
   "cell_type": "code",
   "execution_count": null,
   "id": "abfe4f19",
   "metadata": {},
   "outputs": [],
   "source": [
    "#Generate random target\n",
    "#Fixed seed for reproducibility\n",
    "np.random.seed(1)\n",
    "R = [] \n",
    "rand_list = np.random.random(size=(len(Y)))\n",
    "for i in rand_list:\n",
    "    if i<0.5:\n",
    "        a = 0\n",
    "    else:\n",
    "        a = 1\n",
    "    R.append(a)"
   ]
  },
  {
   "cell_type": "code",
   "execution_count": null,
   "id": "82e344fd-bfe5-4171-8f4b-99b10df1508c",
   "metadata": {},
   "outputs": [],
   "source": [
    "#Only for counting random subtypes\n",
    "Subtype_r = {0:\"H1N1\", 1:\"H3N2\"}\n",
    "List = []\n",
    "for i in R:\n",
    "    List.append(Subtype_r[i])"
   ]
  },
  {
   "cell_type": "code",
   "execution_count": null,
   "id": "0c35d665",
   "metadata": {},
   "outputs": [],
   "source": [
    "##Target Variable countplot\n",
    "sns.set_style('darkgrid')\n",
    "p = sns.countplot(x=List, color='navy').set(title='Random Subtypes of Influenza', ylabel= 'No. of Residues', xlabel='')"
   ]
  },
  {
   "cell_type": "code",
   "execution_count": null,
   "id": "531510c1",
   "metadata": {},
   "outputs": [],
   "source": [
    "## GetXGBoost Feature Importance\n",
    "model = XGBClassifier(importance_type ='gain', eval_metric='error', use_label_encoder=False)\n",
    "model.fit(X, Y)"
   ]
  },
  {
   "cell_type": "code",
   "execution_count": null,
   "id": "dc288e3a",
   "metadata": {},
   "outputs": [],
   "source": [
    "importance=model.feature_importances_\n",
    "for i,v in enumerate(importance):\n",
    "\tprint('Feature: %0d, Score: %.5f' % (i,v))"
   ]
  },
  {
   "cell_type": "code",
   "execution_count": null,
   "id": "c9b43661",
   "metadata": {},
   "outputs": [],
   "source": [
    "model = XGBClassifier(importance_type = 'gain', eval_metric='error', use_label_encoder=False)\n",
    "model.fit(X, R)"
   ]
  },
  {
   "cell_type": "code",
   "execution_count": null,
   "id": "cc00c22c",
   "metadata": {},
   "outputs": [],
   "source": [
    "importanceR=model.feature_importances_\n",
    "# summarize feature importance\n",
    "for i,v in enumerate(importanceR):\n",
    "\tprint('Feature: %0d, Score: %.5f' % (i,v))\n",
    "\n",
    "fig, ax = plt.subplots(1,1, figsize = (8,6))\n",
    "ax.barh([F_names[x] for x in range(len(importance))], importance, alpha = 0.4, color = 'red')\n",
    "ax.barh([F_names[x] for x in range(len(importanceR))], importanceR, alpha = 0.4, color = 'blue')\n",
    "ax.set_title('XGBoost Feature Gains for HA Type Detection', fontsize=14, fontweight='bold')\n",
    "ax.legend(labels = [\"True Type\",\"Random Type\"],loc=\"center right\",bbox_to_anchor=(1.4,0.5),fontsize=12)\n",
    "plt.show()\n"
   ]
  },
  {
   "cell_type": "code",
   "execution_count": null,
   "id": "fce8f0b6-d428-459a-a264-2e3f1b8ad602",
   "metadata": {},
   "outputs": [],
   "source": [
    "#fig.savefig('HAGains_11Features.png', format='png', dpi=300, bbox_inches='tight')"
   ]
  },
  {
   "cell_type": "code",
   "execution_count": null,
   "id": "d50b6bac",
   "metadata": {},
   "outputs": [],
   "source": [
    "# Test protocol.\n",
    "#Prepare for actual Target and Randomly assigned H1N1 & H3N2 Labels\n",
    "\n",
    "from sklearn.model_selection import train_test_split\n",
    "from sklearn.metrics import accuracy_score"
   ]
  },
  {
   "cell_type": "code",
   "execution_count": null,
   "id": "39ad6df4",
   "metadata": {},
   "outputs": [],
   "source": [
    "X_train, X_test, Y_train, Y_test= train_test_split(X, Y, test_size=0.25, random_state = 1)\n",
    "XR_train, XR_test, R_train, R_test= train_test_split(X, R, test_size=0.25, random_state = 1)"
   ]
  },
  {
   "cell_type": "code",
   "execution_count": null,
   "id": "80fc30b6",
   "metadata": {},
   "outputs": [],
   "source": [
    "model=XGBClassifier(importance_type = 'gain', eval_metric ='error', use_label_encoder=False)\n"
   ]
  },
  {
   "cell_type": "code",
   "execution_count": null,
   "id": "66dc8ee8",
   "metadata": {},
   "outputs": [],
   "source": [
    "model.fit(X_train, Y_train)\n",
    "Y_hat = model.predict(X_test)"
   ]
  },
  {
   "cell_type": "code",
   "execution_count": null,
   "id": "0eb56e6c",
   "metadata": {},
   "outputs": [],
   "source": [
    "accuracy = accuracy_score(Y_test, Y_hat)\n",
    "print('Accuracy: %.2f' % (accuracy*100))"
   ]
  },
  {
   "cell_type": "code",
   "execution_count": null,
   "id": "a89e0c79",
   "metadata": {},
   "outputs": [],
   "source": [
    "Rmodel=XGBClassifier(importance_type = 'gain', eval_metric = 'error', use_label_encoder=False)\n",
    "Rmodel.fit(XR_train, R_train)\n",
    "R_hat = model.predict(XR_test)"
   ]
  },
  {
   "cell_type": "code",
   "execution_count": null,
   "id": "200d28b1",
   "metadata": {},
   "outputs": [],
   "source": [
    "accuracy = accuracy_score(R_test, R_hat)\n",
    "print('Accuracy: %.2f' % (accuracy*100))"
   ]
  },
  {
   "cell_type": "code",
   "execution_count": null,
   "id": "5f93bdb1",
   "metadata": {},
   "outputs": [],
   "source": [
    "#### Average of n runs\n",
    "\n",
    "n = 100\n",
    "ActualLabel = []\n",
    "RandomLabel = []\n",
    "\n",
    "\n",
    "for i in range(n):\n",
    "   \n",
    "    X_train, X_test, Y_train, Y_test = train_test_split(X, Y, test_size=0.25)\n",
    "    XR_train, XR_test, R_train, R_test = train_test_split(X, R, test_size=0.25)\n",
    "    model=XGBClassifier(importance_type ='gain', eval_metric='error', use_label_encoder=False)\n",
    "    model.fit(X_train, Y_train)\n",
    "    Y_hat = model.predict(X_test)\n",
    "    accuracy = accuracy_score(Y_test, Y_hat)\n",
    "    ActualLabel.append(accuracy)\n",
    "    print('Round %0d :'% (i))\n",
    "    print('True Label Accuracy: %.2f' % (accuracy*100))\n",
    "    Rmodel=XGBClassifier(importance_type = 'gain', eval_metric = 'error', use_label_encoder=False)\n",
    "    Rmodel.fit(XR_train, R_train)\n",
    "    R_hat = model.predict(XR_test)\n",
    "    accuracy = accuracy_score(R_test, R_hat)\n",
    "    RandomLabel.append(accuracy)\n",
    "    print('Random Label Accuracy: %.2f' % (accuracy*100))\n",
    "    \n"
   ]
  },
  {
   "cell_type": "code",
   "execution_count": null,
   "id": "b558a218",
   "metadata": {},
   "outputs": [],
   "source": [
    "A1 = np.asarray(ActualLabel)\n",
    "R1 = np.asarray(RandomLabel)"
   ]
  },
  {
   "cell_type": "code",
   "execution_count": null,
   "id": "91c54032",
   "metadata": {},
   "outputs": [],
   "source": [
    "A1_mean = np.mean(A1)\n",
    "A1_std = np.std(A1)\n",
    "print('True mean: %.2f; True s.t.d: %.3f' %(A1_mean*100, A1_std))"
   ]
  },
  {
   "cell_type": "code",
   "execution_count": null,
   "id": "b07351f5",
   "metadata": {},
   "outputs": [],
   "source": [
    "R1_mean = np.mean(R1)\n",
    "R1_std = np.std(R1)\n",
    "print('Random mean: %.2f; Random s.t.d: %.3f' %(R1_mean*100, R1_std))"
   ]
  },
  {
   "cell_type": "code",
   "execution_count": null,
   "id": "85b87037-eccc-42cb-8883-b202aa4ac0e0",
   "metadata": {},
   "outputs": [],
   "source": []
  }
 ],
 "metadata": {
  "kernelspec": {
   "display_name": "Python 3 (ipykernel)",
   "language": "python",
   "name": "python3"
  },
  "language_info": {
   "codemirror_mode": {
    "name": "ipython",
    "version": 3
   },
   "file_extension": ".py",
   "mimetype": "text/x-python",
   "name": "python",
   "nbconvert_exporter": "python",
   "pygments_lexer": "ipython3",
   "version": "3.9.13"
  }
 },
 "nbformat": 4,
 "nbformat_minor": 5
}
